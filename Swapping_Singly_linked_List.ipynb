{
 "cells": [
  {
   "cell_type": "markdown",
   "metadata": {},
   "source": [
    "## Defining Node Object "
   ]
  },
  {
   "cell_type": "code",
   "execution_count": 1,
   "metadata": {
    "collapsed": true
   },
   "outputs": [],
   "source": [
    "class Node(object):\n",
    "    def __init__(self,value):\n",
    "        self.next_node = None\n",
    "        self.value = value\n",
    "    \n",
    "    \n",
    "    def getNextNode(self):\n",
    "        return self.next_node\n",
    "    \n",
    "    def getValue(self):\n",
    "        return self.value\n",
    "    \n",
    "\n",
    "    "
   ]
  },
  {
   "cell_type": "markdown",
   "metadata": {},
   "source": [
    "## Creating Singly Linked List"
   ]
  },
  {
   "cell_type": "code",
   "execution_count": 2,
   "metadata": {
    "collapsed": false
   },
   "outputs": [],
   "source": [
    "first_node = Node(1)\n",
    "second_node = Node(2)\n",
    "third_node = Node(3)\n",
    "fourth_node = Node(4)\n",
    "fifth_node = Node(5)\n",
    "sixth_node = Node(6)\n",
    "seventh_node = Node(7)\n",
    "\n",
    "\n",
    "first_node.next_node = second_node\n",
    "\n",
    "second_node.next_node = third_node\n",
    "\n",
    "third_node.next_node = fourth_node\n",
    "\n",
    "fourth_node.next_node = fifth_node\n",
    "\n",
    "fifth_node.next_node = sixth_node\n",
    "\n",
    "sixth_node.next_node = seventh_node\n",
    "\n"
   ]
  },
  {
   "cell_type": "markdown",
   "metadata": {},
   "source": [
    "## Creating function to print the list"
   ]
  },
  {
   "cell_type": "code",
   "execution_count": 3,
   "metadata": {
    "collapsed": false
   },
   "outputs": [
    {
     "name": "stdout",
     "output_type": "stream",
     "text": [
      "1\n",
      "2\n",
      "3\n",
      "4\n",
      "5\n",
      "6\n",
      "7\n"
     ]
    }
   ],
   "source": [
    "def printLinkedList(Node):\n",
    "    print(Node.getValue())\n",
    "    if Node.getNextNode() is not None:\n",
    "        printLinkedList(Node.getNextNode())\n",
    "    \n",
    "\n",
    "printLinkedList(first_node)\n"
   ]
  },
  {
   "cell_type": "markdown",
   "metadata": {},
   "source": [
    "## Creating first and Second Target Nodes and swapping"
   ]
  },
  {
   "cell_type": "code",
   "execution_count": 4,
   "metadata": {
    "collapsed": false
   },
   "outputs": [
    {
     "name": "stdout",
     "output_type": "stream",
     "text": [
      "2\n",
      "4\n"
     ]
    }
   ],
   "source": [
    "def getfirstandSecondTargetNodes(starting_node,element_from_front, element_from_last):\n",
    "    targetfirst = starting_node\n",
    "    #Take element_from_front hops to reach the first element\n",
    "    for i in range(1,element_from_front): \n",
    "        targetfirst = targetfirst.getNextNode()\n",
    "    step=1\n",
    "    print(targetfirst.getValue())\n",
    "    pointer1=starting_node\n",
    "    startPointer2=False\n",
    "    while(pointer1.getNextNode() is not None):\n",
    "\n",
    "        pointer1=pointer1.getNextNode()\n",
    "        step = step + 1\n",
    "        if(step==element_from_last): # To find the parent , we use two pointers(start second pointer lazily)\n",
    "            pointer2 = starting_node\n",
    "            startPointer2 = True\n",
    "        if(startPointer2):\n",
    "            targetSecond = pointer2\n",
    "            pointer2=pointer2.getNextNode()\n",
    "    print(targetSecond.getValue())\n",
    "            \n",
    "    return targetfirst,targetSecond\n",
    "\n",
    "def swap(Node1,Node2):\n",
    "        temp = Node1.getValue() \n",
    "        Node1.value = Node2.getValue()\n",
    "        Node2.value= temp\n",
    "\n",
    "    \n",
    "\n",
    "targetFirstParent,targetSecondParent = getfirstandSecondTargetNodes(first_node,2,4)\n",
    "\n",
    "swap(targetFirstParent,targetSecondParent)\n",
    "\n",
    "\n",
    "\n",
    "\n",
    "        "
   ]
  },
  {
   "cell_type": "markdown",
   "metadata": {},
   "source": [
    "## Printing the list again to confirm that swap has taken place"
   ]
  },
  {
   "cell_type": "code",
   "execution_count": 5,
   "metadata": {
    "collapsed": false
   },
   "outputs": [
    {
     "name": "stdout",
     "output_type": "stream",
     "text": [
      "1\n",
      "4\n",
      "3\n",
      "2\n",
      "5\n",
      "6\n",
      "7\n"
     ]
    }
   ],
   "source": [
    "\n",
    "printLinkedList(first_node)\n",
    "\n",
    "        \n",
    "        "
   ]
  }
 ],
 "metadata": {
  "kernelspec": {
   "display_name": "Python 2",
   "language": "python",
   "name": "python2"
  },
  "language_info": {
   "codemirror_mode": {
    "name": "ipython",
    "version": 2
   },
   "file_extension": ".py",
   "mimetype": "text/x-python",
   "name": "python",
   "nbconvert_exporter": "python",
   "pygments_lexer": "ipython2",
   "version": "2.7.6"
  }
 },
 "nbformat": 4,
 "nbformat_minor": 1
}
